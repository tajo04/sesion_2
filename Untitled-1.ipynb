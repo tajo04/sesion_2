{
 "cells": [
  {
   "cell_type": "code",
   "execution_count": 2,
   "metadata": {},
   "outputs": [
    {
     "name": "stdout",
     "output_type": "stream",
     "text": [
      "Hola jero de colombia con 19 años.\n"
     ]
    }
   ],
   "source": [
    "nombre = input('¿Cómo te llamas? ')\n",
    "edad = input('¿Cuántos años tienes? ')\n",
    "nacionalidad = input('¿De dónde eres? ')\n",
    "\n",
    "print('Hola', nombre, 'de', nacionalidad, 'con', int(edad), 'años.')"
   ]
  },
  {
   "cell_type": "code",
   "execution_count": 3,
   "metadata": {},
   "outputs": [
    {
     "name": "stdout",
     "output_type": "stream",
     "text": [
      "15.0\n"
     ]
    }
   ],
   "source": [
    "precio=100\n",
    "precio_final=precio*0.15\n",
    "print(precio_final)\n"
   ]
  },
  {
   "cell_type": "code",
   "execution_count": 4,
   "metadata": {},
   "outputs": [
    {
     "name": "stdout",
     "output_type": "stream",
     "text": [
      "Eres mayor de edad\n"
     ]
    }
   ],
   "source": [
    "edad=int(input('¿Cuantos años tienes?'))\n",
    "if edad>=18:\n",
    "    print('Eres mayor de edad')\n",
    "else:\n",
    "    print('Eres menor de edad')"
   ]
  },
  {
   "cell_type": "code",
   "execution_count": 5,
   "metadata": {},
   "outputs": [
    {
     "name": "stdout",
     "output_type": "stream",
     "text": [
      "El número 59 es impar.\n"
     ]
    }
   ],
   "source": [
    "numero = int(input(\"Ingresa un número: \"))\n",
    "\n",
    "if numero % 2 == 0:\n",
    "    print(f\"El número {numero} es par.\")\n",
    "else:\n",
    "    print(f\"El número {numero} es impar.\")\n"
   ]
  },
  {
   "cell_type": "code",
   "execution_count": 6,
   "metadata": {},
   "outputs": [
    {
     "name": "stdout",
     "output_type": "stream",
     "text": [
      "La suma es: 85 La resta es: 33 la multiplicacion es: 1534 La divicion es: 2.269230769230769\n"
     ]
    }
   ],
   "source": [
    "num1=int(input('¿Ingresa un numero?'))\n",
    "num2=int(input('¿Ingresa un numero?'))\n",
    "\n",
    "suma=num1+num2\n",
    "resta=num1-num2\n",
    "mult=num1*num2\n",
    "div=num1/num2\n",
    "print('La suma es:',suma,'La resta es:',resta,'la multiplicacion es:',mult,'La divicion es:',div)\n"
   ]
  },
  {
   "cell_type": "code",
   "execution_count": 7,
   "metadata": {},
   "outputs": [
    {
     "name": "stdout",
     "output_type": "stream",
     "text": [
      "Aprobado\n"
     ]
    }
   ],
   "source": [
    "calificacion=int(input('¿Ingresa tu calicacion(1-100)?'))\n",
    "if calificacion<=70:\n",
    "    print('Aprobado')\n",
    "else:\n",
    "    print('Reprobado')"
   ]
  },
  {
   "cell_type": "code",
   "execution_count": 8,
   "metadata": {},
   "outputs": [
    {
     "name": "stdout",
     "output_type": "stream",
     "text": [
      "El número 5.0 es mayor que 4.0\n"
     ]
    }
   ],
   "source": [
    "num1 = float(input('¿Ingresa un número? '))\n",
    "num2 = float(input('¿Ingresa un número? '))\n",
    "\n",
    "if num1 < num2:\n",
    "    print('El número', num2, 'es mayor que', num1)\n",
    "elif num1 > num2:\n",
    "    print('El número', num1, 'es mayor que', num2)\n",
    "else:\n",
    "    print('Los dos números son iguales')\n"
   ]
  },
  {
   "cell_type": "code",
   "execution_count": null,
   "metadata": {},
   "outputs": [],
   "source": [
    "nombre=input('Ingresa tu nombre')\n",
    "print('Hola',nombre)"
   ]
  },
  {
   "cell_type": "code",
   "execution_count": null,
   "metadata": {},
   "outputs": [],
   "source": [
    "num1 = float(input('Ingresa el primer número: '))\n",
    "num2 = float(input('Ingresa el segundo número: '))\n",
    "\n",
    "promedio = (num1 + num2) / 2\n",
    "\n",
    "print('El promedio de', num1, 'y', num2, 'es:', promedio)\n"
   ]
  }
 ],
 "metadata": {
  "kernelspec": {
   "display_name": "Python 3",
   "language": "python",
   "name": "python3"
  },
  "language_info": {
   "codemirror_mode": {
    "name": "ipython",
    "version": 3
   },
   "file_extension": ".py",
   "mimetype": "text/x-python",
   "name": "python",
   "nbconvert_exporter": "python",
   "pygments_lexer": "ipython3",
   "version": "3.12.5"
  }
 },
 "nbformat": 4,
 "nbformat_minor": 2
}
